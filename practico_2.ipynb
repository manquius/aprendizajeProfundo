{
 "cells": [
  {
   "cell_type": "markdown",
   "metadata": {},
   "source": [
    "# Aprondizaje Profundo\n",
    "\n",
    "## Laboratorio 2\n",
    "\n",
    "Fernando E. Mancuso\n"
   ]
  },
  {
   "cell_type": "markdown",
   "metadata": {},
   "source": [
    "### Descripcion"
   ]
  },
  {
   "cell_type": "markdown",
   "metadata": {},
   "source": [
    "En el presente laboratorio intetaremos comprobar el impacto de la modificacion de los hiperparametros en los resultados del modelo para predecir el tiempo en el que una mascota es adoptada."
   ]
  },
  {
   "cell_type": "markdown",
   "metadata": {},
   "source": [
    "### Experimentos"
   ]
  },
  {
   "cell_type": "markdown",
   "metadata": {},
   "source": [
    "#### Experimento 1, Default\n",
    "\n",
    "##### Parametros\n",
    "Default\n",
    "\n",
    "##### Resultado"
   ]
  },
  {
   "cell_type": "code",
   "execution_count": 1,
   "metadata": {},
   "outputs": [
    {
     "name": "stdout",
     "output_type": "stream",
     "text": [
      "All operations completed\n",
      "All operations completed\n",
      "Training samples 8465, test_samples 4411\n",
      "Adding embedding of size 77 for layer Breed1\n",
      "Model: \"model\"\n",
      "__________________________________________________________________________________________________\n",
      "Layer (type)                    Output Shape         Param #     Connected to                     \n",
      "==================================================================================================\n",
      "Breed1 (InputLayer)             [(None, 1)]          0                                            \n",
      "__________________________________________________________________________________________________\n",
      "embedding (Embedding)           (None, 1, 77)        23716       Breed1[0][0]                     \n",
      "__________________________________________________________________________________________________\n",
      "tf_op_layer_Squeeze (TensorFlow [(None, 77)]         0           embedding[0][0]                  \n",
      "__________________________________________________________________________________________________\n",
      "direct_features (InputLayer)    [(None, 12)]         0                                            \n",
      "__________________________________________________________________________________________________\n",
      "concatenate (Concatenate)       (None, 89)           0           tf_op_layer_Squeeze[0][0]        \n",
      "                                                                 direct_features[0][0]            \n",
      "__________________________________________________________________________________________________\n",
      "dense (Dense)                   (None, 100)          9000        concatenate[0][0]                \n",
      "__________________________________________________________________________________________________\n",
      "dropout (Dropout)               (None, 100)          0           dense[0][0]                      \n",
      "__________________________________________________________________________________________________\n",
      "dense_1 (Dense)                 (None, 5)            505         dropout[0][0]                    \n",
      "==================================================================================================\n",
      "Total params: 33,221\n",
      "Trainable params: 33,221\n",
      "Non-trainable params: 0\n",
      "__________________________________________________________________________________________________\n",
      "None\n",
      "INFO: 'default' does not exist. Creating a new experiment\n"
     ]
    },
    {
     "name": "stderr",
     "output_type": "stream",
     "text": [
      "C:\\Users\\femancus\\AppData\\Local\\Continuum\\anaconda3\\lib\\site-packages\\tensorflow_core\\python\\training\\tracking\\data_structures.py:669: DeprecationWarning: Using or importing the ABCs from 'collections' instead of from 'collections.abc' is deprecated, and in 3.8 it will stop working\n",
      "  if not isinstance(wrapped_dict, collections.Mapping):\n"
     ]
    },
    {
     "name": "stdout",
     "output_type": "stream",
     "text": [
      "dict_keys(['loss', 'accuracy', 'val_loss', 'val_accuracy'])\n",
      "67/67 [==============================] - 0s 997us/step - loss: 1.4457 - accuracy: 0.3288\n",
      "*** Dev loss: 1.4456584240073589 - accuracy: 0.3287671208381653\n",
      "[[0.03336236 0.274179   0.27695033 0.19936596 0.21614233]\n",
      " [0.01472974 0.15180708 0.2534309  0.22764213 0.3523901 ]\n",
      " [0.01719149 0.1439451  0.28946078 0.26326162 0.286141  ]\n",
      " ...\n",
      " [0.08653193 0.26033106 0.17014639 0.3588411  0.12414952]\n",
      " [0.0176628  0.26549825 0.20541129 0.22001594 0.29141176]\n",
      " [0.00921018 0.23410107 0.21518627 0.21414423 0.3273582 ]]\n"
     ]
    },
    {
     "name": "stderr",
     "output_type": "stream",
     "text": [
      "C:\\Users\\femancus\\AppData\\Local\\Continuum\\anaconda3\\lib\\site-packages\\tensorflow_core\\python\\keras\\engine\\training_v2_utils.py:364: DeprecationWarning: Using or importing the ABCs from 'collections' instead of from 'collections.abc' is deprecated, and in 3.8 it will stop working\n",
      "  if isinstance(inputs, collections.Sequence):\n"
     ]
    }
   ],
   "source": [
    "%run -i practico_1_train_petfinder.py --epochs 10 --dropout 0.5 --batch_size 32 --experiment_name default --one_hot_columns Gender Color1 --embedding_columns Breed1"
   ]
  },
  {
   "cell_type": "markdown",
   "metadata": {},
   "source": [
    "#### Experimento 2, Low Dropout\n",
    "\n",
    "##### Parametros\n",
    "dropout 0.4\n",
    "\n",
    "##### Resultado"
   ]
  },
  {
   "cell_type": "code",
   "execution_count": 2,
   "metadata": {},
   "outputs": [
    {
     "name": "stdout",
     "output_type": "stream",
     "text": [
      "All operations completed\n",
      "All operations completed\n",
      "Training samples 8465, test_samples 4411\n",
      "Adding embedding of size 77 for layer Breed1\n",
      "Model: \"model\"\n",
      "__________________________________________________________________________________________________\n",
      "Layer (type)                    Output Shape         Param #     Connected to                     \n",
      "==================================================================================================\n",
      "Breed1 (InputLayer)             [(None, 1)]          0                                            \n",
      "__________________________________________________________________________________________________\n",
      "embedding (Embedding)           (None, 1, 77)        23716       Breed1[0][0]                     \n",
      "__________________________________________________________________________________________________\n",
      "tf_op_layer_Squeeze (TensorFlow [(None, 77)]         0           embedding[0][0]                  \n",
      "__________________________________________________________________________________________________\n",
      "direct_features (InputLayer)    [(None, 12)]         0                                            \n",
      "__________________________________________________________________________________________________\n",
      "concatenate (Concatenate)       (None, 89)           0           tf_op_layer_Squeeze[0][0]        \n",
      "                                                                 direct_features[0][0]            \n",
      "__________________________________________________________________________________________________\n",
      "dense (Dense)                   (None, 100)          9000        concatenate[0][0]                \n",
      "__________________________________________________________________________________________________\n",
      "dropout (Dropout)               (None, 100)          0           dense[0][0]                      \n",
      "__________________________________________________________________________________________________\n",
      "dense_1 (Dense)                 (None, 5)            505         dropout[0][0]                    \n",
      "==================================================================================================\n",
      "Total params: 33,221\n",
      "Trainable params: 33,221\n",
      "Non-trainable params: 0\n",
      "__________________________________________________________________________________________________\n",
      "None\n",
      "INFO: 'lowDropout' does not exist. Creating a new experiment\n",
      "dict_keys(['loss', 'accuracy', 'val_loss', 'val_accuracy'])\n",
      "67/67 [==============================] - 0s 997us/step - loss: 1.4495 - accuracy: 0.3321\n",
      "*** Dev loss: 1.4495310463122468 - accuracy: 0.3320736885070801\n",
      "[[0.02341276 0.24916044 0.35266748 0.1565025  0.21825689]\n",
      " [0.01487291 0.16452497 0.27632156 0.1991111  0.34516943]\n",
      " [0.0197163  0.15067312 0.27429786 0.22585726 0.3294555 ]\n",
      " ...\n",
      " [0.07772378 0.23651548 0.19771351 0.29154003 0.19650717]\n",
      " [0.01587416 0.23765221 0.2957967  0.18329488 0.26738206]\n",
      " [0.01080545 0.2724877  0.24684787 0.17503971 0.29481927]]\n"
     ]
    }
   ],
   "source": [
    "%run -i practico_1_train_petfinder.py --epochs 10 --dropout 0.4 --batch_size 32 --experiment_name lowDropout --one_hot_columns Gender Color1 --embedding_columns Breed1"
   ]
  },
  {
   "cell_type": "markdown",
   "metadata": {},
   "source": [
    "#### Experimento 3, High Dropout\n",
    "\n",
    "##### Parametros\n",
    "dropout 0.6\n",
    "\n",
    "##### Resultado"
   ]
  },
  {
   "cell_type": "code",
   "execution_count": 3,
   "metadata": {},
   "outputs": [
    {
     "name": "stdout",
     "output_type": "stream",
     "text": [
      "All operations completed\n",
      "All operations completed\n",
      "Training samples 8465, test_samples 4411\n",
      "Adding embedding of size 77 for layer Breed1\n",
      "WARNING:tensorflow:Large dropout rate: 0.6 (>0.5). In TensorFlow 2.x, dropout() uses dropout rate instead of keep_prob. Please ensure that this is intended.\n",
      "Model: \"model\"\n",
      "__________________________________________________________________________________________________\n",
      "Layer (type)                    Output Shape         Param #     Connected to                     \n",
      "==================================================================================================\n",
      "Breed1 (InputLayer)             [(None, 1)]          0                                            \n",
      "__________________________________________________________________________________________________\n",
      "embedding (Embedding)           (None, 1, 77)        23716       Breed1[0][0]                     \n",
      "__________________________________________________________________________________________________\n",
      "tf_op_layer_Squeeze (TensorFlow [(None, 77)]         0           embedding[0][0]                  \n",
      "__________________________________________________________________________________________________\n",
      "direct_features (InputLayer)    [(None, 12)]         0                                            \n",
      "__________________________________________________________________________________________________\n",
      "concatenate (Concatenate)       (None, 89)           0           tf_op_layer_Squeeze[0][0]        \n",
      "                                                                 direct_features[0][0]            \n",
      "__________________________________________________________________________________________________\n",
      "dense (Dense)                   (None, 100)          9000        concatenate[0][0]                \n",
      "__________________________________________________________________________________________________\n",
      "dropout (Dropout)               (None, 100)          0           dense[0][0]                      \n",
      "__________________________________________________________________________________________________\n",
      "dense_1 (Dense)                 (None, 5)            505         dropout[0][0]                    \n",
      "==================================================================================================\n",
      "Total params: 33,221\n",
      "Trainable params: 33,221\n",
      "Non-trainable params: 0\n",
      "__________________________________________________________________________________________________\n",
      "None\n",
      "INFO: 'highDropout' does not exist. Creating a new experiment\n",
      "WARNING:tensorflow:Large dropout rate: 0.6 (>0.5). In TensorFlow 2.x, dropout() uses dropout rate instead of keep_prob. Please ensure that this is intended.\n",
      "WARNING:tensorflow:Large dropout rate: 0.6 (>0.5). In TensorFlow 2.x, dropout() uses dropout rate instead of keep_prob. Please ensure that this is intended.\n",
      "dict_keys(['loss', 'accuracy', 'val_loss', 'val_accuracy'])\n",
      "67/67 [==============================] - 0s 1ms/step - loss: 1.4398 - accuracy: 0.3127\n",
      "*** Dev loss: 1.4398423041870345 - accuracy: 0.3127066493034363\n",
      "[[0.01899826 0.3121595  0.2587268  0.1610208  0.24909471]\n",
      " [0.02773123 0.17318784 0.25420228 0.20884815 0.3360304 ]\n",
      " [0.03185553 0.1629599  0.28051186 0.24685836 0.27781436]\n",
      " ...\n",
      " [0.06271883 0.25627205 0.2076656  0.25729424 0.21604921]\n",
      " [0.01565526 0.28708404 0.22966188 0.19133928 0.27625948]\n",
      " [0.0143567  0.26485142 0.25214073 0.18457882 0.28407228]]\n"
     ]
    }
   ],
   "source": [
    "%run -i practico_1_train_petfinder.py --epochs 10 --dropout 0.6 --batch_size 32 --experiment_name highDropout --one_hot_columns Gender Color1 --embedding_columns Breed1"
   ]
  },
  {
   "cell_type": "markdown",
   "metadata": {},
   "source": [
    "#### Experimento 4, Highest Dropout\n",
    "\n",
    "##### Parametros\n",
    "dropout 0.7\n",
    "\n",
    "##### Resultado"
   ]
  },
  {
   "cell_type": "code",
   "execution_count": 4,
   "metadata": {},
   "outputs": [
    {
     "name": "stdout",
     "output_type": "stream",
     "text": [
      "All operations completed\n",
      "All operations completed\n",
      "Training samples 8465, test_samples 4411\n",
      "Adding embedding of size 77 for layer Breed1\n",
      "WARNING:tensorflow:Large dropout rate: 0.7 (>0.5). In TensorFlow 2.x, dropout() uses dropout rate instead of keep_prob. Please ensure that this is intended.\n",
      "Model: \"model\"\n",
      "__________________________________________________________________________________________________\n",
      "Layer (type)                    Output Shape         Param #     Connected to                     \n",
      "==================================================================================================\n",
      "Breed1 (InputLayer)             [(None, 1)]          0                                            \n",
      "__________________________________________________________________________________________________\n",
      "embedding (Embedding)           (None, 1, 77)        23716       Breed1[0][0]                     \n",
      "__________________________________________________________________________________________________\n",
      "tf_op_layer_Squeeze (TensorFlow [(None, 77)]         0           embedding[0][0]                  \n",
      "__________________________________________________________________________________________________\n",
      "direct_features (InputLayer)    [(None, 12)]         0                                            \n",
      "__________________________________________________________________________________________________\n",
      "concatenate (Concatenate)       (None, 89)           0           tf_op_layer_Squeeze[0][0]        \n",
      "                                                                 direct_features[0][0]            \n",
      "__________________________________________________________________________________________________\n",
      "dense (Dense)                   (None, 100)          9000        concatenate[0][0]                \n",
      "__________________________________________________________________________________________________\n",
      "dropout (Dropout)               (None, 100)          0           dense[0][0]                      \n",
      "__________________________________________________________________________________________________\n",
      "dense_1 (Dense)                 (None, 5)            505         dropout[0][0]                    \n",
      "==================================================================================================\n",
      "Total params: 33,221\n",
      "Trainable params: 33,221\n",
      "Non-trainable params: 0\n",
      "__________________________________________________________________________________________________\n",
      "None\n",
      "INFO: 'hightestDropout' does not exist. Creating a new experiment\n",
      "WARNING:tensorflow:Large dropout rate: 0.7 (>0.5). In TensorFlow 2.x, dropout() uses dropout rate instead of keep_prob. Please ensure that this is intended.\n",
      "dict_keys(['loss', 'accuracy', 'val_loss', 'val_accuracy'])\n",
      "67/67 [==============================] - 0s 1ms/step - loss: 1.4538 - accuracy: 0.3226\n",
      "*** Dev loss: 1.4537685397845597 - accuracy: 0.32262635231018066\n",
      "[[0.03416359 0.28197065 0.30702075 0.17281869 0.20402634]\n",
      " [0.02173719 0.1865584  0.26255396 0.21714629 0.31200424]\n",
      " [0.02197311 0.16009627 0.2684142  0.24982403 0.2996924 ]\n",
      " ...\n",
      " [0.08574259 0.27843705 0.21173495 0.22553273 0.19855265]\n",
      " [0.02928656 0.28995287 0.23107375 0.18260965 0.26707718]\n",
      " [0.01544563 0.29934025 0.2574252  0.14720142 0.28058755]]\n"
     ]
    }
   ],
   "source": [
    "%run -i practico_1_train_petfinder.py --epochs 10 --dropout 0.7 --batch_size 32 --experiment_name hightestDropout --one_hot_columns Gender Color1 --embedding_columns Breed1"
   ]
  },
  {
   "cell_type": "markdown",
   "metadata": {},
   "source": [
    "### Dropout conclussion:\n",
    "Nos quedamos con el valor de 0.6, que da un accuracy ligeramente mas alto con un loss similar a los demas"
   ]
  },
  {
   "cell_type": "markdown",
   "metadata": {},
   "source": [
    "#### Experimento 5, Gender One Hot Column\n",
    "\n",
    "##### Parametros\n",
    "dropout 0.7\n",
    "one_hot_columns Gender\n",
    "\n",
    "##### Resultado"
   ]
  },
  {
   "cell_type": "code",
   "execution_count": 5,
   "metadata": {},
   "outputs": [
    {
     "name": "stdout",
     "output_type": "stream",
     "text": [
      "All operations completed\n",
      "All operations completed\n",
      "Training samples 8465, test_samples 4411\n",
      "Adding embedding of size 77 for layer Breed1\n",
      "Model: \"model\"\n",
      "__________________________________________________________________________________________________\n",
      "Layer (type)                    Output Shape         Param #     Connected to                     \n",
      "==================================================================================================\n",
      "Breed1 (InputLayer)             [(None, 1)]          0                                            \n",
      "__________________________________________________________________________________________________\n",
      "embedding (Embedding)           (None, 1, 77)        23716       Breed1[0][0]                     \n",
      "__________________________________________________________________________________________________\n",
      "tf_op_layer_Squeeze (TensorFlow [(None, 77)]         0           embedding[0][0]                  \n",
      "__________________________________________________________________________________________________\n",
      "direct_features (InputLayer)    [(None, 5)]          0                                            \n",
      "__________________________________________________________________________________________________\n",
      "concatenate (Concatenate)       (None, 82)           0           tf_op_layer_Squeeze[0][0]        \n",
      "                                                                 direct_features[0][0]            \n",
      "__________________________________________________________________________________________________\n",
      "dense (Dense)                   (None, 100)          8300        concatenate[0][0]                \n",
      "__________________________________________________________________________________________________\n",
      "dropout (Dropout)               (None, 100)          0           dense[0][0]                      \n",
      "__________________________________________________________________________________________________\n",
      "dense_1 (Dense)                 (None, 5)            505         dropout[0][0]                    \n",
      "==================================================================================================\n",
      "Total params: 32,521\n",
      "Trainable params: 32,521\n",
      "Non-trainable params: 0\n",
      "__________________________________________________________________________________________________\n",
      "None\n",
      "INFO: 'genderOneHotColumn' does not exist. Creating a new experiment\n",
      "dict_keys(['loss', 'accuracy', 'val_loss', 'val_accuracy'])\n",
      "67/67 [==============================] - 0s 1ms/step - loss: 1.4393 - accuracy: 0.3137\n",
      "*** Dev loss: 1.4393104599482978 - accuracy: 0.3136513829231262\n",
      "[[0.04037291 0.265145   0.30460513 0.1761572  0.21371977]\n",
      " [0.02282585 0.19630362 0.27390876 0.22397514 0.28298664]\n",
      " [0.03257602 0.20350392 0.3128174  0.20364739 0.24745525]\n",
      " ...\n",
      " [0.06617204 0.2721442  0.23745339 0.2629999  0.16123043]\n",
      " [0.02836649 0.23740573 0.25380117 0.20327418 0.27715245]\n",
      " [0.01439153 0.20893154 0.24992628 0.1810682  0.34568244]]\n"
     ]
    }
   ],
   "source": [
    "%run -i practico_1_train_petfinder.py --epochs 10 --dropout 0.7 --batch_size 32 --experiment_name genderOneHotColumn --one_hot_columns Gender --embedding_columns Breed1"
   ]
  },
  {
   "cell_type": "markdown",
   "metadata": {},
   "source": [
    "#### Experimento 6, FullColor\n",
    "\n",
    "##### Parametros\n",
    "dropout 0.7\n",
    "one_hot_columns Gender Color1 Color2 Color3\n",
    "\n",
    "##### Resultado"
   ]
  },
  {
   "cell_type": "code",
   "execution_count": 6,
   "metadata": {},
   "outputs": [
    {
     "name": "stdout",
     "output_type": "stream",
     "text": [
      "All operations completed\n",
      "All operations completed\n",
      "Training samples 8465, test_samples 4411\n",
      "Adding embedding of size 77 for layer Breed1\n",
      "Model: \"model\"\n",
      "__________________________________________________________________________________________________\n",
      "Layer (type)                    Output Shape         Param #     Connected to                     \n",
      "==================================================================================================\n",
      "Breed1 (InputLayer)             [(None, 1)]          0                                            \n",
      "__________________________________________________________________________________________________\n",
      "embedding (Embedding)           (None, 1, 77)        23716       Breed1[0][0]                     \n",
      "__________________________________________________________________________________________________\n",
      "tf_op_layer_Squeeze (TensorFlow [(None, 77)]         0           embedding[0][0]                  \n",
      "__________________________________________________________________________________________________\n",
      "direct_features (InputLayer)    [(None, 26)]         0                                            \n",
      "__________________________________________________________________________________________________\n",
      "concatenate (Concatenate)       (None, 103)          0           tf_op_layer_Squeeze[0][0]        \n",
      "                                                                 direct_features[0][0]            \n",
      "__________________________________________________________________________________________________\n",
      "dense (Dense)                   (None, 100)          10400       concatenate[0][0]                \n",
      "__________________________________________________________________________________________________\n",
      "dropout (Dropout)               (None, 100)          0           dense[0][0]                      \n",
      "__________________________________________________________________________________________________\n",
      "dense_1 (Dense)                 (None, 5)            505         dropout[0][0]                    \n",
      "==================================================================================================\n",
      "Total params: 34,621\n",
      "Trainable params: 34,621\n",
      "Non-trainable params: 0\n",
      "__________________________________________________________________________________________________\n",
      "None\n",
      "INFO: 'fullColor' does not exist. Creating a new experiment\n",
      "dict_keys(['loss', 'accuracy', 'val_loss', 'val_accuracy'])\n",
      "67/67 [==============================] - 0s 1ms/step - loss: 1.4514 - accuracy: 0.3174\n",
      "*** Dev loss: 1.4513671807388762 - accuracy: 0.317430317401886\n",
      "[[0.02598114 0.28659144 0.31612507 0.16899608 0.2023063 ]\n",
      " [0.01712742 0.17502023 0.2685807  0.21602283 0.3232488 ]\n",
      " [0.01134646 0.1512855  0.31546316 0.24180625 0.28009865]\n",
      " ...\n",
      " [0.04954186 0.23414728 0.2102894  0.28325778 0.22276369]\n",
      " [0.01379527 0.22410178 0.25791013 0.19875893 0.30543387]\n",
      " [0.01507103 0.24295844 0.262591   0.17523037 0.30414915]]\n"
     ]
    }
   ],
   "source": [
    "%run -i practico_1_train_petfinder.py --epochs 10 --dropout 0.7 --batch_size 32 --experiment_name fullColor --one_hot_columns Gender Color1 Color2 Color3 --embedding_columns Breed1"
   ]
  },
  {
   "cell_type": "markdown",
   "metadata": {},
   "source": [
    "#### Experimento 7, Full One Hot Encoding\n",
    "\n",
    "##### Parametros\n",
    "dropout 0.7\n",
    "one_hot_columns Gender Color1 Color2 Color3\n",
    "\n",
    "##### Resultado"
   ]
  },
  {
   "cell_type": "code",
   "execution_count": 7,
   "metadata": {},
   "outputs": [
    {
     "name": "stdout",
     "output_type": "stream",
     "text": [
      "All operations completed\n",
      "All operations completed\n",
      "Training samples 8465, test_samples 4411\n",
      "Adding embedding of size 77 for layer Breed1\n",
      "Model: \"model\"\n",
      "__________________________________________________________________________________________________\n",
      "Layer (type)                    Output Shape         Param #     Connected to                     \n",
      "==================================================================================================\n",
      "Breed1 (InputLayer)             [(None, 1)]          0                                            \n",
      "__________________________________________________________________________________________________\n",
      "embedding (Embedding)           (None, 1, 77)        23716       Breed1[0][0]                     \n",
      "__________________________________________________________________________________________________\n",
      "tf_op_layer_Squeeze (TensorFlow [(None, 77)]         0           embedding[0][0]                  \n",
      "__________________________________________________________________________________________________\n",
      "direct_features (InputLayer)    [(None, 45)]         0                                            \n",
      "__________________________________________________________________________________________________\n",
      "concatenate (Concatenate)       (None, 122)          0           tf_op_layer_Squeeze[0][0]        \n",
      "                                                                 direct_features[0][0]            \n",
      "__________________________________________________________________________________________________\n",
      "dense (Dense)                   (None, 100)          12300       concatenate[0][0]                \n",
      "__________________________________________________________________________________________________\n",
      "dropout (Dropout)               (None, 100)          0           dense[0][0]                      \n",
      "__________________________________________________________________________________________________\n",
      "dense_1 (Dense)                 (None, 5)            505         dropout[0][0]                    \n",
      "==================================================================================================\n",
      "Total params: 36,521\n",
      "Trainable params: 36,521\n",
      "Non-trainable params: 0\n",
      "__________________________________________________________________________________________________\n",
      "None\n",
      "INFO: 'fullOneHotEncoding' does not exist. Creating a new experiment\n",
      "dict_keys(['loss', 'accuracy', 'val_loss', 'val_accuracy'])\n",
      "67/67 [==============================] - 0s 1ms/step - loss: 1.4148 - accuracy: 0.3651\n",
      "*** Dev loss: 1.4147615521701413 - accuracy: 0.36513933539390564\n",
      "[[0.04796388 0.24861029 0.20219672 0.17790806 0.323321  ]\n",
      " [0.02481222 0.20044087 0.28697816 0.24103609 0.2467326 ]\n",
      " [0.01577223 0.19179268 0.2933267  0.23542567 0.2636826 ]\n",
      " ...\n",
      " [0.06912798 0.35727617 0.25137156 0.22744906 0.09477524]\n",
      " [0.01369242 0.11537743 0.20045997 0.22303037 0.44743988]\n",
      " [0.02047462 0.27552855 0.22413829 0.16531993 0.31453863]]\n"
     ]
    }
   ],
   "source": [
    "%run -i practico_1_train_petfinder.py --epochs 10 --dropout 0.7 --batch_size 32 --experiment_name fullOneHotEncoding --one_hot_columns Gender Color1 Color2 Color3 MaturitySize FurLength Vaccinated Dewormed Sterilized Health --embedding_columns Breed1"
   ]
  },
  {
   "cell_type": "markdown",
   "metadata": {},
   "source": [
    "### One Hot Encoding conclussion:\n",
    "Observamos que agregando mas columnas One Hot Encoding, mejoramos el accuracyy reducimos el loss."
   ]
  },
  {
   "cell_type": "markdown",
   "metadata": {},
   "source": [
    "#### Experimento 8, Full Breed Embedding\n",
    "\n",
    "##### Parametros\n",
    "dropout 0.7\n",
    "one_hot_columns Gender Color1 Color2 Color3\n",
    "embedding_columns Breed1 Breed2\n",
    "\n",
    "##### Resultado"
   ]
  },
  {
   "cell_type": "code",
   "execution_count": 8,
   "metadata": {},
   "outputs": [
    {
     "name": "stdout",
     "output_type": "stream",
     "text": [
      "All operations completed\n",
      "All operations completed\n",
      "Training samples 8465, test_samples 4411\n",
      "Adding embedding of size 77 for layer Breed1\n",
      "Adding embedding of size 77 for layer Breed2\n",
      "Model: \"model\"\n",
      "__________________________________________________________________________________________________\n",
      "Layer (type)                    Output Shape         Param #     Connected to                     \n",
      "==================================================================================================\n",
      "Breed1 (InputLayer)             [(None, 1)]          0                                            \n",
      "__________________________________________________________________________________________________\n",
      "Breed2 (InputLayer)             [(None, 1)]          0                                            \n",
      "__________________________________________________________________________________________________\n",
      "embedding (Embedding)           (None, 1, 77)        23716       Breed1[0][0]                     \n",
      "__________________________________________________________________________________________________\n",
      "embedding_1 (Embedding)         (None, 1, 77)        23716       Breed2[0][0]                     \n",
      "__________________________________________________________________________________________________\n",
      "tf_op_layer_Squeeze (TensorFlow [(None, 77)]         0           embedding[0][0]                  \n",
      "__________________________________________________________________________________________________\n",
      "tf_op_layer_Squeeze_1 (TensorFl [(None, 77)]         0           embedding_1[0][0]                \n",
      "__________________________________________________________________________________________________\n",
      "direct_features (InputLayer)    [(None, 45)]         0                                            \n",
      "__________________________________________________________________________________________________\n",
      "concatenate (Concatenate)       (None, 199)          0           tf_op_layer_Squeeze[0][0]        \n",
      "                                                                 tf_op_layer_Squeeze_1[0][0]      \n",
      "                                                                 direct_features[0][0]            \n",
      "__________________________________________________________________________________________________\n",
      "dense (Dense)                   (None, 100)          20000       concatenate[0][0]                \n",
      "__________________________________________________________________________________________________\n",
      "dropout (Dropout)               (None, 100)          0           dense[0][0]                      \n",
      "__________________________________________________________________________________________________\n",
      "dense_1 (Dense)                 (None, 5)            505         dropout[0][0]                    \n",
      "==================================================================================================\n",
      "Total params: 67,937\n",
      "Trainable params: 67,937\n",
      "Non-trainable params: 0\n",
      "__________________________________________________________________________________________________\n",
      "None\n",
      "INFO: 'fullBreedEmbedding' does not exist. Creating a new experiment\n",
      "dict_keys(['loss', 'accuracy', 'val_loss', 'val_accuracy'])\n",
      "67/67 [==============================] - 0s 1ms/step - loss: 1.4041 - accuracy: 0.3656\n",
      "*** Dev loss: 1.4041418833519095 - accuracy: 0.3656117022037506\n",
      "[[0.03286717 0.23125103 0.24659988 0.16506931 0.32421255]\n",
      " [0.03071455 0.20729259 0.3024682  0.2328143  0.2267103 ]\n",
      " [0.01929063 0.18691474 0.32941726 0.25548673 0.20889057]\n",
      " ...\n",
      " [0.06636899 0.364038   0.24648988 0.2352328  0.08787034]\n",
      " [0.00418029 0.08336107 0.16597487 0.29027268 0.4562111 ]\n",
      " [0.02083189 0.25585353 0.22807431 0.15760224 0.33763802]]\n"
     ]
    }
   ],
   "source": [
    "%run -i practico_1_train_petfinder.py --epochs 10 --dropout 0.7 --batch_size 32 --experiment_name fullBreedEmbedding --one_hot_columns Gender Color1 Color2 Color3 MaturitySize FurLength Vaccinated Dewormed Sterilized Health --embedding_columns Breed1 Breed2"
   ]
  },
  {
   "cell_type": "markdown",
   "metadata": {},
   "source": [
    "### Embedding conclussion:\n",
    "Observamos que agregando mas columnas embedded, mantiene el accuracy pero el loss se incrementa. Posiblemente debido a la introduccion de ruido."
   ]
  },
  {
   "cell_type": "code",
   "execution_count": null,
   "metadata": {},
   "outputs": [],
   "source": []
  }
 ],
 "metadata": {
  "kernelspec": {
   "display_name": "Python 3",
   "language": "python",
   "name": "python3"
  },
  "language_info": {
   "codemirror_mode": {
    "name": "ipython",
    "version": 3
   },
   "file_extension": ".py",
   "mimetype": "text/x-python",
   "name": "python",
   "nbconvert_exporter": "python",
   "pygments_lexer": "ipython3",
   "version": "3.7.3"
  }
 },
 "nbformat": 4,
 "nbformat_minor": 2
}
