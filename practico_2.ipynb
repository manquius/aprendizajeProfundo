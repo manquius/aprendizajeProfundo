{
 "cells": [
  {
   "cell_type": "markdown",
   "metadata": {},
   "source": [
    "# Aprondizaje Profundo\n",
    "\n",
    "## Laboratorio 2\n",
    "\n",
    "Fernando E. Mancuso\n"
   ]
  },
  {
   "cell_type": "markdown",
   "metadata": {},
   "source": [
    "### Descripcion"
   ]
  },
  {
   "cell_type": "markdown",
   "metadata": {},
   "source": [
    "En el presente laboratorio intetaremos comprobar el impacto de la modificacion de los hiperparametros en los resultados del modelo para predecir el tiempo en el que una mascota es adoptada."
   ]
  },
  {
   "cell_type": "markdown",
   "metadata": {},
   "source": [
    "### Experimentos"
   ]
  },
  {
   "cell_type": "markdown",
   "metadata": {},
   "source": [
    "#### Experimento 1, Default\n",
    "\n",
    "##### Parametros\n",
    "Default\n",
    "\n",
    "##### Resultado"
   ]
  },
  {
   "cell_type": "code",
   "execution_count": 1,
   "metadata": {},
   "outputs": [
    {
     "name": "stdout",
     "output_type": "stream",
     "text": [
      "All operations completed\n",
      "All operations completed\n",
      "Training samples 8465, test_samples 4411\n",
      "Adding embedding of size 77 for layer Breed1\n"
     ]
    },
    {
     "name": "stderr",
     "output_type": "stream",
     "text": [
      "C:\\Users\\femancus\\AppData\\Local\\Continuum\\anaconda3\\lib\\site-packages\\tensorflow_core\\python\\training\\tracking\\data_structures.py:669: DeprecationWarning: Using or importing the ABCs from 'collections' instead of from 'collections.abc' is deprecated, and in 3.8 it will stop working\n",
      "  if not isinstance(wrapped_dict, collections.Mapping):\n"
     ]
    },
    {
     "name": "stdout",
     "output_type": "stream",
     "text": [
      "Model: \"model\"\n",
      "__________________________________________________________________________________________________\n",
      "Layer (type)                    Output Shape         Param #     Connected to                     \n",
      "==================================================================================================\n",
      "Breed1 (InputLayer)             [(None, 1)]          0                                            \n",
      "__________________________________________________________________________________________________\n",
      "embedding (Embedding)           (None, 1, 77)        23716       Breed1[0][0]                     \n",
      "__________________________________________________________________________________________________\n",
      "tf_op_layer_Squeeze (TensorFlow [(None, 77)]         0           embedding[0][0]                  \n",
      "__________________________________________________________________________________________________\n",
      "direct_features (InputLayer)    [(None, 12)]         0                                            \n",
      "__________________________________________________________________________________________________\n",
      "concatenate (Concatenate)       (None, 89)           0           tf_op_layer_Squeeze[0][0]        \n",
      "                                                                 direct_features[0][0]            \n",
      "__________________________________________________________________________________________________\n",
      "dense (Dense)                   (None, 100)          9000        concatenate[0][0]                \n",
      "__________________________________________________________________________________________________\n",
      "dropout (Dropout)               (None, 100)          0           dense[0][0]                      \n",
      "__________________________________________________________________________________________________\n",
      "dense_1 (Dense)                 (None, 5)            505         dropout[0][0]                    \n",
      "==================================================================================================\n",
      "Total params: 33,221\n",
      "Trainable params: 33,221\n",
      "Non-trainable params: 0\n",
      "__________________________________________________________________________________________________\n",
      "None\n",
      "INFO: 'default' does not exist. Creating a new experiment\n",
      "dict_keys(['loss', 'accuracy', 'val_loss', 'val_accuracy'])\n",
      "67/67 [==============================] - 0s 961us/step - loss: 1.4532 - accuracy: 0.3188\n",
      "*** Dev loss: 1.4531865831631332 - accuracy: 0.3188474178314209\n",
      "[[0.02864739 0.25912243 0.2688063  0.18818203 0.2552419 ]\n",
      " [0.02079717 0.1689291  0.269146   0.22533558 0.31579217]\n",
      " [0.01691203 0.15517963 0.2883024  0.26245165 0.2771543 ]\n",
      " ...\n",
      " [0.07238508 0.2570778  0.20868632 0.34533066 0.11652015]\n",
      " [0.01854559 0.24229147 0.2196284  0.216852   0.3026825 ]\n",
      " [0.01022037 0.21288544 0.22495969 0.21501414 0.3369203 ]]\n"
     ]
    },
    {
     "name": "stderr",
     "output_type": "stream",
     "text": [
      "C:\\Users\\femancus\\AppData\\Local\\Continuum\\anaconda3\\lib\\site-packages\\tensorflow_core\\python\\keras\\engine\\training_v2_utils.py:364: DeprecationWarning: Using or importing the ABCs from 'collections' instead of from 'collections.abc' is deprecated, and in 3.8 it will stop working\n",
      "  if isinstance(inputs, collections.Sequence):\n"
     ]
    }
   ],
   "source": [
    "%run -i practico_1_train_petfinder.py --hidden_layer_sizes 100 --epochs 10 --dropout 0.5 --batch_size 32 --experiment_name default --one_hot_columns Gender Color1 --embedding_columns Breed1"
   ]
  },
  {
   "cell_type": "markdown",
   "metadata": {},
   "source": [
    "#### Experimento 2, Low Dropout\n",
    "\n",
    "##### Parametros\n",
    "dropout 0.4\n",
    "\n",
    "##### Resultado"
   ]
  },
  {
   "cell_type": "code",
   "execution_count": 2,
   "metadata": {},
   "outputs": [
    {
     "name": "stdout",
     "output_type": "stream",
     "text": [
      "All operations completed\n",
      "All operations completed\n",
      "Training samples 8465, test_samples 4411\n",
      "Adding embedding of size 77 for layer Breed1\n",
      "Model: \"model\"\n",
      "__________________________________________________________________________________________________\n",
      "Layer (type)                    Output Shape         Param #     Connected to                     \n",
      "==================================================================================================\n",
      "Breed1 (InputLayer)             [(None, 1)]          0                                            \n",
      "__________________________________________________________________________________________________\n",
      "embedding (Embedding)           (None, 1, 77)        23716       Breed1[0][0]                     \n",
      "__________________________________________________________________________________________________\n",
      "tf_op_layer_Squeeze (TensorFlow [(None, 77)]         0           embedding[0][0]                  \n",
      "__________________________________________________________________________________________________\n",
      "direct_features (InputLayer)    [(None, 12)]         0                                            \n",
      "__________________________________________________________________________________________________\n",
      "concatenate (Concatenate)       (None, 89)           0           tf_op_layer_Squeeze[0][0]        \n",
      "                                                                 direct_features[0][0]            \n",
      "__________________________________________________________________________________________________\n",
      "dense (Dense)                   (None, 100)          9000        concatenate[0][0]                \n",
      "__________________________________________________________________________________________________\n",
      "dropout (Dropout)               (None, 100)          0           dense[0][0]                      \n",
      "__________________________________________________________________________________________________\n",
      "dense_1 (Dense)                 (None, 5)            505         dropout[0][0]                    \n",
      "==================================================================================================\n",
      "Total params: 33,221\n",
      "Trainable params: 33,221\n",
      "Non-trainable params: 0\n",
      "__________________________________________________________________________________________________\n",
      "None\n",
      "INFO: 'lowDropout' does not exist. Creating a new experiment\n",
      "dict_keys(['loss', 'accuracy', 'val_loss', 'val_accuracy'])\n",
      "67/67 [==============================] - 0s 1ms/step - loss: 1.4551 - accuracy: 0.3165\n",
      "*** Dev loss: 1.4550565765864814 - accuracy: 0.31648558378219604\n",
      "[[0.05026995 0.28999078 0.29337662 0.17144361 0.19491898]\n",
      " [0.0234699  0.16837734 0.2736918  0.20050685 0.3339541 ]\n",
      " [0.03217967 0.16391715 0.24703653 0.2575494  0.29931727]\n",
      " ...\n",
      " [0.03623354 0.22595778 0.24125084 0.31414825 0.18240957]\n",
      " [0.03241381 0.31382868 0.21882205 0.17321064 0.26172483]\n",
      " [0.01715185 0.2923436  0.24148028 0.18265973 0.26636454]]\n"
     ]
    }
   ],
   "source": [
    "%run -i practico_1_train_petfinder.py --hidden_layer_sizes 100 --epochs 10 --dropout 0.4 --batch_size 32 --experiment_name lowDropout --one_hot_columns Gender Color1 --embedding_columns Breed1"
   ]
  },
  {
   "cell_type": "markdown",
   "metadata": {},
   "source": [
    "#### Experimento 3, High Dropout\n",
    "\n",
    "##### Parametros\n",
    "dropout 0.6\n",
    "\n",
    "##### Resultado"
   ]
  },
  {
   "cell_type": "code",
   "execution_count": 3,
   "metadata": {},
   "outputs": [
    {
     "name": "stdout",
     "output_type": "stream",
     "text": [
      "All operations completed\n",
      "All operations completed\n",
      "Training samples 8465, test_samples 4411\n",
      "Adding embedding of size 77 for layer Breed1\n",
      "WARNING:tensorflow:Large dropout rate: 0.6 (>0.5). In TensorFlow 2.x, dropout() uses dropout rate instead of keep_prob. Please ensure that this is intended.\n",
      "Model: \"model\"\n",
      "__________________________________________________________________________________________________\n",
      "Layer (type)                    Output Shape         Param #     Connected to                     \n",
      "==================================================================================================\n",
      "Breed1 (InputLayer)             [(None, 1)]          0                                            \n",
      "__________________________________________________________________________________________________\n",
      "embedding (Embedding)           (None, 1, 77)        23716       Breed1[0][0]                     \n",
      "__________________________________________________________________________________________________\n",
      "tf_op_layer_Squeeze (TensorFlow [(None, 77)]         0           embedding[0][0]                  \n",
      "__________________________________________________________________________________________________\n",
      "direct_features (InputLayer)    [(None, 12)]         0                                            \n",
      "__________________________________________________________________________________________________\n",
      "concatenate (Concatenate)       (None, 89)           0           tf_op_layer_Squeeze[0][0]        \n",
      "                                                                 direct_features[0][0]            \n",
      "__________________________________________________________________________________________________\n",
      "dense (Dense)                   (None, 100)          9000        concatenate[0][0]                \n",
      "__________________________________________________________________________________________________\n",
      "dropout (Dropout)               (None, 100)          0           dense[0][0]                      \n",
      "__________________________________________________________________________________________________\n",
      "dense_1 (Dense)                 (None, 5)            505         dropout[0][0]                    \n",
      "==================================================================================================\n",
      "Total params: 33,221\n",
      "Trainable params: 33,221\n",
      "Non-trainable params: 0\n",
      "__________________________________________________________________________________________________\n",
      "None\n",
      "INFO: 'highDropout' does not exist. Creating a new experiment\n",
      "WARNING:tensorflow:Large dropout rate: 0.6 (>0.5). In TensorFlow 2.x, dropout() uses dropout rate instead of keep_prob. Please ensure that this is intended.\n",
      "WARNING:tensorflow:Large dropout rate: 0.6 (>0.5). In TensorFlow 2.x, dropout() uses dropout rate instead of keep_prob. Please ensure that this is intended.\n",
      "dict_keys(['loss', 'accuracy', 'val_loss', 'val_accuracy'])\n",
      "67/67 [==============================] - 0s 1ms/step - loss: 1.4460 - accuracy: 0.3004\n",
      "*** Dev loss: 1.4460412210492946 - accuracy: 0.30042514204978943\n",
      "[[0.02821908 0.26699737 0.29754955 0.16327739 0.24395658]\n",
      " [0.02296579 0.18607458 0.27426803 0.20296521 0.3137264 ]\n",
      " [0.02087272 0.15029217 0.27137005 0.24640691 0.31105813]\n",
      " ...\n",
      " [0.07840444 0.26998764 0.22880015 0.24982    0.17298777]\n",
      " [0.01950833 0.25571343 0.24708998 0.19794273 0.27974552]\n",
      " [0.01024774 0.26834914 0.24618764 0.18228891 0.29292655]]\n"
     ]
    }
   ],
   "source": [
    "%run -i practico_1_train_petfinder.py --hidden_layer_sizes 100 --epochs 10 --dropout 0.6 --batch_size 32 --experiment_name highDropout --one_hot_columns Gender Color1 --embedding_columns Breed1"
   ]
  },
  {
   "cell_type": "markdown",
   "metadata": {},
   "source": [
    "#### Experimento 4, Highest Dropout\n",
    "\n",
    "##### Parametros\n",
    "dropout 0.7\n",
    "\n",
    "##### Resultado"
   ]
  },
  {
   "cell_type": "code",
   "execution_count": 4,
   "metadata": {},
   "outputs": [
    {
     "name": "stdout",
     "output_type": "stream",
     "text": [
      "All operations completed\n",
      "All operations completed\n",
      "Training samples 8465, test_samples 4411\n",
      "Adding embedding of size 77 for layer Breed1\n",
      "WARNING:tensorflow:Large dropout rate: 0.7 (>0.5). In TensorFlow 2.x, dropout() uses dropout rate instead of keep_prob. Please ensure that this is intended.\n",
      "Model: \"model\"\n",
      "__________________________________________________________________________________________________\n",
      "Layer (type)                    Output Shape         Param #     Connected to                     \n",
      "==================================================================================================\n",
      "Breed1 (InputLayer)             [(None, 1)]          0                                            \n",
      "__________________________________________________________________________________________________\n",
      "embedding (Embedding)           (None, 1, 77)        23716       Breed1[0][0]                     \n",
      "__________________________________________________________________________________________________\n",
      "tf_op_layer_Squeeze (TensorFlow [(None, 77)]         0           embedding[0][0]                  \n",
      "__________________________________________________________________________________________________\n",
      "direct_features (InputLayer)    [(None, 12)]         0                                            \n",
      "__________________________________________________________________________________________________\n",
      "concatenate (Concatenate)       (None, 89)           0           tf_op_layer_Squeeze[0][0]        \n",
      "                                                                 direct_features[0][0]            \n",
      "__________________________________________________________________________________________________\n",
      "dense (Dense)                   (None, 100)          9000        concatenate[0][0]                \n",
      "__________________________________________________________________________________________________\n",
      "dropout (Dropout)               (None, 100)          0           dense[0][0]                      \n",
      "__________________________________________________________________________________________________\n",
      "dense_1 (Dense)                 (None, 5)            505         dropout[0][0]                    \n",
      "==================================================================================================\n",
      "Total params: 33,221\n",
      "Trainable params: 33,221\n",
      "Non-trainable params: 0\n",
      "__________________________________________________________________________________________________\n",
      "None\n",
      "INFO: 'hightestDropout' does not exist. Creating a new experiment\n",
      "WARNING:tensorflow:Large dropout rate: 0.7 (>0.5). In TensorFlow 2.x, dropout() uses dropout rate instead of keep_prob. Please ensure that this is intended.\n",
      "dict_keys(['loss', 'accuracy', 'val_loss', 'val_accuracy'])\n",
      "67/67 [==============================] - 0s 1ms/step - loss: 1.4411 - accuracy: 0.3113\n",
      "*** Dev loss: 1.441108363777844 - accuracy: 0.31128954887390137\n",
      "[[0.03288285 0.30218974 0.27791372 0.17052704 0.21648672]\n",
      " [0.0199316  0.17294681 0.23294233 0.2350685  0.33911073]\n",
      " [0.02462011 0.16323127 0.24236025 0.25201643 0.31777203]\n",
      " ...\n",
      " [0.09565347 0.2544582  0.19293736 0.24915169 0.20779927]\n",
      " [0.0231944  0.27406207 0.24513991 0.18858232 0.26902127]\n",
      " [0.01525888 0.26216593 0.2625959  0.18063654 0.27934274]]\n"
     ]
    }
   ],
   "source": [
    "%run -i practico_1_train_petfinder.py --hidden_layer_sizes 100 --epochs 10 --dropout 0.7 --batch_size 32 --experiment_name hightestDropout --one_hot_columns Gender Color1 --embedding_columns Breed1"
   ]
  },
  {
   "cell_type": "markdown",
   "metadata": {},
   "source": [
    "### Dropout conclussion:\n",
    "Nos quedamos con el valor de 0.6, que da un accuracy ligeramente mas alto con un loss similar a los demas"
   ]
  },
  {
   "cell_type": "markdown",
   "metadata": {},
   "source": [
    "#### Experimento 5, Gender One Hot Column\n",
    "\n",
    "##### Parametros\n",
    "dropout 0.7\n",
    "one_hot_columns Gender\n",
    "\n",
    "##### Resultado"
   ]
  },
  {
   "cell_type": "code",
   "execution_count": 5,
   "metadata": {},
   "outputs": [
    {
     "name": "stdout",
     "output_type": "stream",
     "text": [
      "All operations completed\n",
      "All operations completed\n",
      "Training samples 8465, test_samples 4411\n",
      "Adding embedding of size 77 for layer Breed1\n",
      "Model: \"model\"\n",
      "__________________________________________________________________________________________________\n",
      "Layer (type)                    Output Shape         Param #     Connected to                     \n",
      "==================================================================================================\n",
      "Breed1 (InputLayer)             [(None, 1)]          0                                            \n",
      "__________________________________________________________________________________________________\n",
      "embedding (Embedding)           (None, 1, 77)        23716       Breed1[0][0]                     \n",
      "__________________________________________________________________________________________________\n",
      "tf_op_layer_Squeeze (TensorFlow [(None, 77)]         0           embedding[0][0]                  \n",
      "__________________________________________________________________________________________________\n",
      "direct_features (InputLayer)    [(None, 5)]          0                                            \n",
      "__________________________________________________________________________________________________\n",
      "concatenate (Concatenate)       (None, 82)           0           tf_op_layer_Squeeze[0][0]        \n",
      "                                                                 direct_features[0][0]            \n",
      "__________________________________________________________________________________________________\n",
      "dense (Dense)                   (None, 100)          8300        concatenate[0][0]                \n",
      "__________________________________________________________________________________________________\n",
      "dropout (Dropout)               (None, 100)          0           dense[0][0]                      \n",
      "__________________________________________________________________________________________________\n",
      "dense_1 (Dense)                 (None, 5)            505         dropout[0][0]                    \n",
      "==================================================================================================\n",
      "Total params: 32,521\n",
      "Trainable params: 32,521\n",
      "Non-trainable params: 0\n",
      "__________________________________________________________________________________________________\n",
      "None\n",
      "INFO: 'genderOneHotColumn' does not exist. Creating a new experiment\n",
      "dict_keys(['loss', 'accuracy', 'val_loss', 'val_accuracy'])\n",
      "67/67 [==============================] - 0s 1ms/step - loss: 1.4500 - accuracy: 0.3056\n",
      "*** Dev loss: 1.4499745564674265 - accuracy: 0.3056211471557617\n",
      "[[0.04544178 0.2971335  0.28410783 0.17441222 0.1989046 ]\n",
      " [0.01928305 0.17356983 0.26972857 0.22528836 0.31213018]\n",
      " [0.02054811 0.14554434 0.25706896 0.2520792  0.3247594 ]\n",
      " ...\n",
      " [0.05059055 0.24348713 0.21885918 0.31222114 0.17484201]\n",
      " [0.03209055 0.29470834 0.2489355  0.17523539 0.24903023]\n",
      " [0.0141029  0.26135314 0.2500374  0.16838802 0.30611858]]\n"
     ]
    }
   ],
   "source": [
    "%run -i practico_1_train_petfinder.py --hidden_layer_sizes 100 --epochs 10 --dropout 0.7 --batch_size 32 --experiment_name genderOneHotColumn --one_hot_columns Gender --embedding_columns Breed1"
   ]
  },
  {
   "cell_type": "markdown",
   "metadata": {},
   "source": [
    "#### Experimento 6, FullColor\n",
    "\n",
    "##### Parametros\n",
    "dropout 0.7\n",
    "one_hot_columns Gender Color1 Color2 Color3\n",
    "\n",
    "##### Resultado"
   ]
  },
  {
   "cell_type": "code",
   "execution_count": 6,
   "metadata": {},
   "outputs": [
    {
     "name": "stdout",
     "output_type": "stream",
     "text": [
      "All operations completed\n",
      "All operations completed\n",
      "Training samples 8465, test_samples 4411\n",
      "Adding embedding of size 77 for layer Breed1\n",
      "Model: \"model\"\n",
      "__________________________________________________________________________________________________\n",
      "Layer (type)                    Output Shape         Param #     Connected to                     \n",
      "==================================================================================================\n",
      "Breed1 (InputLayer)             [(None, 1)]          0                                            \n",
      "__________________________________________________________________________________________________\n",
      "embedding (Embedding)           (None, 1, 77)        23716       Breed1[0][0]                     \n",
      "__________________________________________________________________________________________________\n",
      "tf_op_layer_Squeeze (TensorFlow [(None, 77)]         0           embedding[0][0]                  \n",
      "__________________________________________________________________________________________________\n",
      "direct_features (InputLayer)    [(None, 26)]         0                                            \n",
      "__________________________________________________________________________________________________\n",
      "concatenate (Concatenate)       (None, 103)          0           tf_op_layer_Squeeze[0][0]        \n",
      "                                                                 direct_features[0][0]            \n",
      "__________________________________________________________________________________________________\n",
      "dense (Dense)                   (None, 100)          10400       concatenate[0][0]                \n",
      "__________________________________________________________________________________________________\n",
      "dropout (Dropout)               (None, 100)          0           dense[0][0]                      \n",
      "__________________________________________________________________________________________________\n",
      "dense_1 (Dense)                 (None, 5)            505         dropout[0][0]                    \n",
      "==================================================================================================\n",
      "Total params: 34,621\n",
      "Trainable params: 34,621\n",
      "Non-trainable params: 0\n",
      "__________________________________________________________________________________________________\n",
      "None\n",
      "INFO: 'fullColor' does not exist. Creating a new experiment\n",
      "dict_keys(['loss', 'accuracy', 'val_loss', 'val_accuracy'])\n",
      "67/67 [==============================] - 0s 1ms/step - loss: 1.4413 - accuracy: 0.3198\n",
      "*** Dev loss: 1.4412867809409526 - accuracy: 0.31979215145111084\n",
      "[[0.04731421 0.22860076 0.2944108  0.20704691 0.22262734]\n",
      " [0.02677133 0.18293662 0.25203094 0.22224934 0.3160117 ]\n",
      " [0.0292778  0.14926215 0.26230982 0.28146356 0.27768672]\n",
      " ...\n",
      " [0.09164969 0.2415976  0.22433388 0.24745399 0.1949649 ]\n",
      " [0.01815713 0.19817418 0.26729438 0.22483233 0.291542  ]\n",
      " [0.02078124 0.22820488 0.27935368 0.19759777 0.27406248]]\n"
     ]
    }
   ],
   "source": [
    "%run -i practico_1_train_petfinder.py --hidden_layer_sizes 100 --epochs 10 --dropout 0.7 --batch_size 32 --experiment_name fullColor --one_hot_columns Gender Color1 Color2 Color3 --embedding_columns Breed1"
   ]
  },
  {
   "cell_type": "markdown",
   "metadata": {},
   "source": [
    "#### Experimento 7, Full One Hot Encoding\n",
    "\n",
    "##### Parametros\n",
    "dropout 0.7\n",
    "one_hot_columns Gender Color1 Color2 Color3\n",
    "\n",
    "##### Resultado"
   ]
  },
  {
   "cell_type": "code",
   "execution_count": 7,
   "metadata": {},
   "outputs": [
    {
     "name": "stdout",
     "output_type": "stream",
     "text": [
      "All operations completed\n",
      "All operations completed\n",
      "Training samples 8465, test_samples 4411\n",
      "Adding embedding of size 77 for layer Breed1\n",
      "Model: \"model\"\n",
      "__________________________________________________________________________________________________\n",
      "Layer (type)                    Output Shape         Param #     Connected to                     \n",
      "==================================================================================================\n",
      "Breed1 (InputLayer)             [(None, 1)]          0                                            \n",
      "__________________________________________________________________________________________________\n",
      "embedding (Embedding)           (None, 1, 77)        23716       Breed1[0][0]                     \n",
      "__________________________________________________________________________________________________\n",
      "tf_op_layer_Squeeze (TensorFlow [(None, 77)]         0           embedding[0][0]                  \n",
      "__________________________________________________________________________________________________\n",
      "direct_features (InputLayer)    [(None, 45)]         0                                            \n",
      "__________________________________________________________________________________________________\n",
      "concatenate (Concatenate)       (None, 122)          0           tf_op_layer_Squeeze[0][0]        \n",
      "                                                                 direct_features[0][0]            \n",
      "__________________________________________________________________________________________________\n",
      "dense (Dense)                   (None, 100)          12300       concatenate[0][0]                \n",
      "__________________________________________________________________________________________________\n",
      "dropout (Dropout)               (None, 100)          0           dense[0][0]                      \n",
      "__________________________________________________________________________________________________\n",
      "dense_1 (Dense)                 (None, 5)            505         dropout[0][0]                    \n",
      "==================================================================================================\n",
      "Total params: 36,521\n",
      "Trainable params: 36,521\n",
      "Non-trainable params: 0\n",
      "__________________________________________________________________________________________________\n",
      "None\n",
      "INFO: 'fullOneHotEncoding' does not exist. Creating a new experiment\n",
      "dict_keys(['loss', 'accuracy', 'val_loss', 'val_accuracy'])\n",
      "67/67 [==============================] - 0s 1ms/step - loss: 1.4204 - accuracy: 0.3368\n",
      "*** Dev loss: 1.420438417747839 - accuracy: 0.3367973566055298\n",
      "[[0.0425266  0.23951398 0.28541136 0.11922514 0.31332287]\n",
      " [0.02830203 0.1934084  0.27138034 0.2381702  0.26873899]\n",
      " [0.01693621 0.17357816 0.30813822 0.26312938 0.23821802]\n",
      " ...\n",
      " [0.09950335 0.37268162 0.2309165  0.21728322 0.07961528]\n",
      " [0.00981022 0.07373104 0.1774689  0.23791833 0.50107145]\n",
      " [0.0134361  0.23687766 0.21965197 0.19664042 0.33339387]]\n"
     ]
    }
   ],
   "source": [
    "%run -i practico_1_train_petfinder.py --hidden_layer_sizes 100 --epochs 10 --dropout 0.7 --batch_size 32 --experiment_name fullOneHotEncoding --one_hot_columns Gender Color1 Color2 Color3 MaturitySize FurLength Vaccinated Dewormed Sterilized Health --embedding_columns Breed1"
   ]
  },
  {
   "cell_type": "markdown",
   "metadata": {},
   "source": [
    "### One Hot Encoding conclussion:\n",
    "Observamos que agregando mas columnas One Hot Encoding, mejoramos el accuracyy reducimos el loss."
   ]
  },
  {
   "cell_type": "markdown",
   "metadata": {},
   "source": [
    "#### Experimento 8, Full Breed Embedding\n",
    "\n",
    "##### Parametros\n",
    "dropout 0.7\n",
    "one_hot_columns Gender Color1 Color2 Color3\n",
    "embedding_columns Breed1 Breed2\n",
    "\n",
    "##### Resultado"
   ]
  },
  {
   "cell_type": "code",
   "execution_count": 8,
   "metadata": {},
   "outputs": [
    {
     "name": "stdout",
     "output_type": "stream",
     "text": [
      "All operations completed\n",
      "All operations completed\n",
      "Training samples 8465, test_samples 4411\n",
      "Adding embedding of size 77 for layer Breed1\n",
      "Adding embedding of size 77 for layer Breed2\n",
      "Model: \"model\"\n",
      "__________________________________________________________________________________________________\n",
      "Layer (type)                    Output Shape         Param #     Connected to                     \n",
      "==================================================================================================\n",
      "Breed1 (InputLayer)             [(None, 1)]          0                                            \n",
      "__________________________________________________________________________________________________\n",
      "Breed2 (InputLayer)             [(None, 1)]          0                                            \n",
      "__________________________________________________________________________________________________\n",
      "embedding (Embedding)           (None, 1, 77)        23716       Breed1[0][0]                     \n",
      "__________________________________________________________________________________________________\n",
      "embedding_1 (Embedding)         (None, 1, 77)        23716       Breed2[0][0]                     \n",
      "__________________________________________________________________________________________________\n",
      "tf_op_layer_Squeeze (TensorFlow [(None, 77)]         0           embedding[0][0]                  \n",
      "__________________________________________________________________________________________________\n",
      "tf_op_layer_Squeeze_1 (TensorFl [(None, 77)]         0           embedding_1[0][0]                \n",
      "__________________________________________________________________________________________________\n",
      "direct_features (InputLayer)    [(None, 45)]         0                                            \n",
      "__________________________________________________________________________________________________\n",
      "concatenate (Concatenate)       (None, 199)          0           tf_op_layer_Squeeze[0][0]        \n",
      "                                                                 tf_op_layer_Squeeze_1[0][0]      \n",
      "                                                                 direct_features[0][0]            \n",
      "__________________________________________________________________________________________________\n",
      "dense (Dense)                   (None, 100)          20000       concatenate[0][0]                \n",
      "__________________________________________________________________________________________________\n",
      "dropout (Dropout)               (None, 100)          0           dense[0][0]                      \n",
      "__________________________________________________________________________________________________\n",
      "dense_1 (Dense)                 (None, 5)            505         dropout[0][0]                    \n",
      "==================================================================================================\n",
      "Total params: 67,937\n",
      "Trainable params: 67,937\n",
      "Non-trainable params: 0\n",
      "__________________________________________________________________________________________________\n",
      "None\n",
      "INFO: 'fullBreedEmbedding' does not exist. Creating a new experiment\n",
      "dict_keys(['loss', 'accuracy', 'val_loss', 'val_accuracy'])\n",
      "67/67 [==============================] - 0s 1ms/step - loss: 1.4202 - accuracy: 0.3439\n",
      "*** Dev loss: 1.4201877330666157 - accuracy: 0.34388285875320435\n",
      "[[0.03119592 0.20694736 0.24402419 0.15741803 0.36041448]\n",
      " [0.02112649 0.18220337 0.30513912 0.2444417  0.24708933]\n",
      " [0.01753746 0.20007402 0.322017   0.2313783  0.22899315]\n",
      " ...\n",
      " [0.08527353 0.42499852 0.14675143 0.22578548 0.11719104]\n",
      " [0.00462065 0.07469689 0.14752886 0.2108803  0.56227326]\n",
      " [0.00774053 0.1407997  0.22007266 0.24170835 0.38967878]]\n"
     ]
    }
   ],
   "source": [
    "%run -i practico_1_train_petfinder.py --hidden_layer_sizes 100 --epochs 10 --dropout 0.7 --batch_size 32 --experiment_name fullBreedEmbedding --one_hot_columns Gender Color1 Color2 Color3 MaturitySize FurLength Vaccinated Dewormed Sterilized Health --embedding_columns Breed1 Breed2"
   ]
  },
  {
   "cell_type": "markdown",
   "metadata": {},
   "source": [
    "### Embedding conclussion:\n",
    "Observamos que agregando mas columnas embedded, mantiene el accuracy pero el loss se incrementa. Posiblemente debido a la introduccion de ruido."
   ]
  },
  {
   "cell_type": "markdown",
   "metadata": {},
   "source": [
    "#### Experimento 9, High Layer Size\n",
    "\n",
    "##### Parametros\n",
    "dropout 0.7\n",
    "one_hot_columns Gender Color1 Color2 Color3\n",
    "embedding_columns Breed1 Breed2\n",
    "hidden_layer_sizes 200\n",
    "\n",
    "##### Resultado"
   ]
  },
  {
   "cell_type": "code",
   "execution_count": 9,
   "metadata": {},
   "outputs": [
    {
     "name": "stdout",
     "output_type": "stream",
     "text": [
      "All operations completed\n",
      "All operations completed\n",
      "Training samples 8465, test_samples 4411\n",
      "Adding embedding of size 77 for layer Breed1\n",
      "Adding embedding of size 77 for layer Breed2\n",
      "Model: \"model\"\n",
      "__________________________________________________________________________________________________\n",
      "Layer (type)                    Output Shape         Param #     Connected to                     \n",
      "==================================================================================================\n",
      "Breed1 (InputLayer)             [(None, 1)]          0                                            \n",
      "__________________________________________________________________________________________________\n",
      "Breed2 (InputLayer)             [(None, 1)]          0                                            \n",
      "__________________________________________________________________________________________________\n",
      "embedding (Embedding)           (None, 1, 77)        23716       Breed1[0][0]                     \n",
      "__________________________________________________________________________________________________\n",
      "embedding_1 (Embedding)         (None, 1, 77)        23716       Breed2[0][0]                     \n",
      "__________________________________________________________________________________________________\n",
      "tf_op_layer_Squeeze (TensorFlow [(None, 77)]         0           embedding[0][0]                  \n",
      "__________________________________________________________________________________________________\n",
      "tf_op_layer_Squeeze_1 (TensorFl [(None, 77)]         0           embedding_1[0][0]                \n",
      "__________________________________________________________________________________________________\n",
      "direct_features (InputLayer)    [(None, 45)]         0                                            \n",
      "__________________________________________________________________________________________________\n",
      "concatenate (Concatenate)       (None, 199)          0           tf_op_layer_Squeeze[0][0]        \n",
      "                                                                 tf_op_layer_Squeeze_1[0][0]      \n",
      "                                                                 direct_features[0][0]            \n",
      "__________________________________________________________________________________________________\n",
      "dense (Dense)                   (None, 200)          40000       concatenate[0][0]                \n",
      "__________________________________________________________________________________________________\n",
      "dropout (Dropout)               (None, 200)          0           dense[0][0]                      \n",
      "__________________________________________________________________________________________________\n",
      "dense_1 (Dense)                 (None, 5)            1005        dropout[0][0]                    \n",
      "==================================================================================================\n",
      "Total params: 88,437\n",
      "Trainable params: 88,437\n",
      "Non-trainable params: 0\n",
      "__________________________________________________________________________________________________\n",
      "None\n",
      "INFO: 'highLayers' does not exist. Creating a new experiment\n",
      "dict_keys(['loss', 'accuracy', 'val_loss', 'val_accuracy'])\n",
      "67/67 [==============================] - 0s 1ms/step - loss: 1.4146 - accuracy: 0.3500\n",
      "*** Dev loss: 1.4145534732448521 - accuracy: 0.35002362728118896\n",
      "[[0.05842027 0.26549903 0.26879355 0.14005004 0.26723722]\n",
      " [0.03484761 0.21417257 0.30841595 0.23391147 0.20865235]\n",
      " [0.02684811 0.19842139 0.31063718 0.24174589 0.22234735]\n",
      " ...\n",
      " [0.03973436 0.3506958  0.2618678  0.249916   0.09778607]\n",
      " [0.00628484 0.12403381 0.1427377  0.25773618 0.46920744]\n",
      " [0.01523349 0.2843422  0.25266087 0.19430533 0.25345805]]\n"
     ]
    }
   ],
   "source": [
    "%run -i practico_1_train_petfinder.py --hidden_layer_sizes 200 --epochs 10 --dropout 0.7 --batch_size 32 --experiment_name highLayers --one_hot_columns Gender Color1 Color2 Color3 MaturitySize FurLength Vaccinated Dewormed Sterilized Health --embedding_columns Breed1 Breed2"
   ]
  },
  {
   "cell_type": "markdown",
   "metadata": {},
   "source": [
    "### High Layers conclussion:\n",
    "Incvrementando el tamaño de las capas ocultas, no descubrimos un incremento significativo de las metricas."
   ]
  },
  {
   "cell_type": "raw",
   "metadata": {},
   "source": [
    "## Conclusion final:\n",
    "No observamos variaciones significativas en la evolucion de los diferentes experimentos. Seguramente porque la informacion que utilizamos para entrenar no es la mas relevante.\n",
    "Serìa practico incluir la descripcion y fotos de las mascotas como input para definir la velocidad de adopcion."
   ]
  }
 ],
 "metadata": {
  "kernelspec": {
   "display_name": "Python 3",
   "language": "python",
   "name": "python3"
  },
  "language_info": {
   "codemirror_mode": {
    "name": "ipython",
    "version": 3
   },
   "file_extension": ".py",
   "mimetype": "text/x-python",
   "name": "python",
   "nbconvert_exporter": "python",
   "pygments_lexer": "ipython3",
   "version": "3.7.3"
  }
 },
 "nbformat": 4,
 "nbformat_minor": 2
}
